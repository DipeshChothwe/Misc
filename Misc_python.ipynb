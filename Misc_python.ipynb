{
  "nbformat": 4,
  "nbformat_minor": 0,
  "metadata": {
    "colab": {
      "name": "Misc_python.ipynb",
      "provenance": [],
      "authorship_tag": "ABX9TyP3vLCsJuo/eft//GbjHnvQ",
      "include_colab_link": true
    },
    "kernelspec": {
      "name": "python3",
      "display_name": "Python 3"
    },
    "language_info": {
      "name": "python"
    }
  },
  "cells": [
    {
      "cell_type": "markdown",
      "metadata": {
        "id": "view-in-github",
        "colab_type": "text"
      },
      "source": [
        "<a href=\"https://colab.research.google.com/github/DipeshChothwe/Misc/blob/main/Misc_python.ipynb\" target=\"_parent\"><img src=\"https://colab.research.google.com/assets/colab-badge.svg\" alt=\"Open In Colab\"/></a>"
      ]
    },
    {
      "cell_type": "markdown",
      "source": [
        "# Problem statement:  \n",
        "\n",
        "A cricket test match stadium has seats for 1000 spectators. Each spectator could either be wearing shades or not. \n",
        "\n",
        "A test match has 3 sessions - morning, afternoon and evening - and the morning and afternoon sessions can get quite sunny; the evening session not so much. So spectators never wear shades for the evening session. \n",
        "\n",
        "What is the probability that at least 1 spectator comes wearing shades for all the 10 morning and afternoon sessions i.e. 2 sessions on 5 days?"
      ],
      "metadata": {
        "id": "ClbJlluaW4Sy"
      }
    },
    {
      "cell_type": "code",
      "source": [
        "import random\n",
        "\n",
        "spectators = 1000\n",
        "sessions = 10\n",
        "count = 0\n",
        "shades = (0,1)\n",
        "spectatordict = {}\n",
        "count2 = 0\n",
        "total2 = 0\n",
        "\n",
        "for i in range(1000):\n",
        "  # Start of iterations\n",
        "  spectslist = []\n",
        "  shade_count = 0\n",
        "\n",
        "  for j in range(spectators + 1):\n",
        "    # Start of iterations on spectators\n",
        "    l = 0\n",
        "\n",
        "    for k in range(sessions + 1):\n",
        "      # Start of iterations on spectators in sessions\n",
        "      p = random.choices([0,1])\n",
        "    \n",
        "      if p[0] == 1:\n",
        "        l = l + 1 \n",
        "    # End of iterations on spectators in sessions\n",
        "\n",
        "    spectatordict[j] = l  \n",
        "  # End of iterations on spectators\n",
        "\n",
        "\n",
        "  spectslist.extend(spectatordict.values())         \n",
        "  No_shades = spectslist.count(10)\n",
        "\n",
        "  #count 1 event when we see atleast 1 spectator with shade count 10 per iteration\n",
        "  if No_shades > 0:\n",
        "    count = count + 1\n",
        "\n",
        "  #Count of all spectators coming with shades in all sessions per iterations\n",
        "  count2 = count2 + No_shades\n",
        "  total2 = len(spectslist) + total2\n",
        "\n",
        "\n",
        "# End of iterations"
      ],
      "metadata": {
        "id": "EZYYl2yoXILx"
      },
      "execution_count": 1,
      "outputs": []
    },
    {
      "cell_type": "code",
      "source": [
        "#print(\"Probability that atleast 1 person is wearing shades in all 10 sessions: \", probability)\n",
        "# (number of interations that have atleast one No_shades = 10)/ number of iterations\n",
        "probability = count/(i+1)\n",
        "\n",
        "# Probability of spectators wearing shades in all sessions:\n",
        "# (Number of spectators wearing shades in all sessions)/ (Number of spectators * interations)\n",
        "probability2 = count2/total2\n",
        "\n",
        "print(\"Probability that atleast one spectator wears shade in all sessions\\n(number of interations that have atleast one No_shades = 10)/ number of iterations: \", probability)\n",
        "print(\"\\nProbability of spectators wearing shades in all sessions \\n(Number of spectators wearing shades in all sessions)/ (Number of spectators * interations): \", probability2)\n"
      ],
      "metadata": {
        "colab": {
          "base_uri": "https://localhost:8080/"
        },
        "id": "uhpj0wJHXy3x",
        "outputId": "e07dbe5d-13ed-4cba-a3e8-82880ece0bf6"
      },
      "execution_count": 2,
      "outputs": [
        {
          "output_type": "stream",
          "name": "stdout",
          "text": [
            "Probability that atleast one spectator wears shade in all sessions\n",
            "(number of interations that have atleast one No_shades = 10)/ number of iterations:  0.995\n",
            "\n",
            "Probability of spectators wearing shades in all sessions \n",
            "(Number of spectators wearing shades in all sessions)/ (Number of spectators * interations):  0.005293706293706294\n"
          ]
        }
      ]
    }
  ]
}
{
  "nbformat": 4,
  "nbformat_minor": 0,
  "metadata": {
    "colab": {
      "name": "Jul28_programming_ATONARP_Dipesh",
      "provenance": [],
      "collapsed_sections": [],
      "include_colab_link": true
    },
    "kernelspec": {
      "name": "python3",
      "display_name": "Python 3"
    },
    "language_info": {
      "name": "python"
    }
  },
  "cells": [
    {
      "cell_type": "markdown",
      "metadata": {
        "id": "view-in-github",
        "colab_type": "text"
      },
      "source": [
        "<a href=\"https://colab.research.google.com/github/DipeshChothwe/Misc/blob/main/Jul28_programming_ATONARP_Dipesh.ipynb\" target=\"_parent\"><img src=\"https://colab.research.google.com/assets/colab-badge.svg\" alt=\"Open In Colab\"/></a>"
      ]
    },
    {
      "cell_type": "markdown",
      "source": [
        "Q1: A cricket test match stadium has seats for 1000 spectators. Each spectator could either be wearing shades or not. \n",
        "\n",
        "A test match has 3 sessions - morning, afternoon and evening - and the morning and afternoon sessions can get quite sunny; the evening session not so much. So spectators never wear shades for the evening session. \n",
        "\n",
        "What is the probability that at least 1 spectator comes wearing shades for all the 10 morning and afternoon sessions i.e. 2 sessions on 5 days?"
      ],
      "metadata": {
        "id": "ioAu1dfk2xIe"
      }
    },
    {
      "cell_type": "code",
      "execution_count": 51,
      "metadata": {
        "id": "44F2RtlP1ow8",
        "colab": {
          "base_uri": "https://localhost:8080/"
        },
        "outputId": "a4ed8010-7a1d-42fa-be34-1de5048b590c"
      },
      "outputs": [
        {
          "output_type": "stream",
          "name": "stdout",
          "text": [
            "Probability that atleast 1 person is coming with shades in all the 10 sessions:  0.27255\n"
          ]
        }
      ],
      "source": [
        "import random\n",
        "\n",
        "spectators = 1000\n",
        "\n",
        "sessions = 10\n",
        "\n",
        "shades = (0,1)\n",
        "spectatordict = {}\n",
        "count = 0\n",
        "spectslist = []\n",
        "\n",
        "for i in range(1000):\n",
        "\n",
        "\n",
        "  for j in range(spectators + 1):\n",
        "    l = 0\n",
        "    for k in range(sessions + 1):\n",
        "      p = random.choices([0,1])\n",
        "      #print(p[0])\n",
        "      if p[0] == 1:\n",
        "        l = l + 1\n",
        "\n",
        "    spectatordict[j] = l  \n",
        "    #print(spectatordict[j])\n",
        "\n",
        "  spectslist = list(spectatordict.values())\n",
        "  #print(spectslist)\n",
        "\n",
        "  count = count + int(spectslist.count(5))\n",
        "  #print(count)\n",
        "\n",
        "\n",
        "probability = count/20/1000\n",
        "\n",
        "print(\"Probability that atleast 1 person is coming with shades in all the 10 sessions: \", probability)\n",
        "\n",
        "\n"
      ]
    },
    {
      "cell_type": "markdown",
      "source": [
        "Find square root of a number (let's say `N`) upto upto a given precision (let's say p decimal points) using Gradient Descent.\n",
        "You cannot use any library.\n",
        "\n",
        "Constraints:\n",
        "*   0 <= N <= 500\n",
        "*   0 <= p <= 6"
      ],
      "metadata": {
        "id": "T7piKY1XRPYq"
      }
    },
    {
      "cell_type": "code",
      "source": [
        "\n",
        "class squareroot:\n",
        "\n",
        "  def __init__(self, N, p, learningrate = 0.01):\n",
        "    self.N = N\n",
        "    self.p = p\n",
        "    self.lr = learningrate\n",
        "\n",
        "\n",
        "  def calculate(self):\n",
        "    if self.N == 1:\n",
        "      return (1)\n",
        "\n",
        "    # Initializing variables\n",
        "    x0 = self.N/25\n",
        "    decimal_constraint = 1\n",
        "    m = 1\n",
        "\n",
        "\n",
        "    # Calculate decimal constraint value from input\n",
        "    for z in range(self.p+1):\n",
        "      decimal_constraint = decimal_constraint/10\n",
        "      #print(decimal_constraint)\n",
        "\n",
        "\n",
        "    # Gradient descent:\n",
        "    while m > decimal_constraint:\n",
        "      cost_funct = (x0 * x0) - self.N\n",
        "      x = x0 - self.lr * cost_funct\n",
        "      #print(self.N,(x0 * x0 - self.N), m)\n",
        "      m = abs(self.N - x* x)\n",
        "      x0 = x\n",
        "\n",
        "    return x\n"
      ],
      "metadata": {
        "id": "4V3_HpAKRXaf"
      },
      "execution_count": 128,
      "outputs": []
    },
    {
      "cell_type": "code",
      "source": [
        "sqrt = squareroot(81,6)\n",
        "c = sqrt.calculate()\n",
        "print(c)"
      ],
      "metadata": {
        "colab": {
          "base_uri": "https://localhost:8080/"
        },
        "id": "276e3W8GvNsf",
        "outputId": "4acad3a2-d111-46f5-df66-25b3e5ae3a62"
      },
      "execution_count": 133,
      "outputs": [
        {
          "output_type": "stream",
          "name": "stdout",
          "text": [
            "8.999999994478543\n"
          ]
        }
      ]
    },
    {
      "cell_type": "markdown",
      "source": [
        "\n"
      ],
      "metadata": {
        "id": "JkAtsmvmdlV3"
      }
    },
    {
      "cell_type": "code",
      "source": [
        "#sum([x*x for x in range(1000)\n",
        "s = 0\n",
        "for x in range(1000):\n",
        "  s = s + x*x\n",
        "\n",
        "print(s)\n",
        "\n",
        "\n"
      ],
      "metadata": {
        "colab": {
          "base_uri": "https://localhost:8080/"
        },
        "id": "KvuR5MFPd1oY",
        "outputId": "4a3f0692-5acd-4f59-ffee-937e6d118501"
      },
      "execution_count": 30,
      "outputs": [
        {
          "output_type": "stream",
          "name": "stdout",
          "text": [
            "332833500\n"
          ]
        }
      ]
    }
  ]
}
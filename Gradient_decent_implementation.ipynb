{
  "nbformat": 4,
  "nbformat_minor": 0,
  "metadata": {
    "colab": {
      "name": "Gradient_decent_implementation",
      "provenance": [],
      "authorship_tag": "ABX9TyPWH8rCiLWR/FMO8OCh/9oX",
      "include_colab_link": true
    },
    "kernelspec": {
      "name": "python3",
      "display_name": "Python 3"
    },
    "language_info": {
      "name": "python"
    }
  },
  "cells": [
    {
      "cell_type": "markdown",
      "metadata": {
        "id": "view-in-github",
        "colab_type": "text"
      },
      "source": [
        "<a href=\"https://colab.research.google.com/github/DipeshChothwe/Misc/blob/main/Gradient_decent_implementation.ipynb\" target=\"_parent\"><img src=\"https://colab.research.google.com/assets/colab-badge.svg\" alt=\"Open In Colab\"/></a>"
      ]
    },
    {
      "cell_type": "markdown",
      "source": [
        "Find square root of a number (let's say `N`) upto upto a given precision (let's say p decimal points) using Gradient Descent.\n",
        "You cannot use any library.\n",
        "\n",
        "Constraints:\n",
        "*   0 <= N <= 500\n",
        "*   0 <= p <= 6"
      ],
      "metadata": {
        "id": "uiGEuLMuYWOs"
      }
    },
    {
      "cell_type": "code",
      "execution_count": 12,
      "metadata": {
        "id": "MdZ-AQ1lYLLV"
      },
      "outputs": [],
      "source": [
        "\n",
        "class squareroot:\n",
        "\n",
        "  def __init__(self, N, p, learningrate = 0.0002):\n",
        "    self.N = N\n",
        "    self.p = p\n",
        "    self.lr = learningrate\n",
        "\n",
        "\n",
        "  def calculate(self):\n",
        "    if self.N == 1:\n",
        "      return (1)\n",
        "\n",
        "    # Initializing variables\n",
        "    x0 = self.N/25\n",
        "    decimal_constraint = 1\n",
        "    m = 1\n",
        "\n",
        "\n",
        "    # Calculate decimal constraint value from input\n",
        "    for z in range(self.p+1):\n",
        "      decimal_constraint = decimal_constraint/10\n",
        "      #print(decimal_constraint)\n",
        "\n",
        "\n",
        "    # Gradient descent:\n",
        "    while m > decimal_constraint:\n",
        "      cost = (x0 * x0) - self.N\n",
        "      cost_funct = cost * cost\n",
        "      x = x0 - self.lr * cost * x0 * 4\n",
        "      #print(x, (x0 * x0 - self.N), m)\n",
        "      m = abs(self.N - x* x)\n",
        "      x0 = x\n",
        "\n",
        "    return round(x, self.p)\n"
      ]
    },
    {
      "cell_type": "code",
      "source": [
        "sqrt = squareroot(398,6)\n",
        "c = sqrt.calculate()\n",
        "print(c)"
      ],
      "metadata": {
        "colab": {
          "base_uri": "https://localhost:8080/"
        },
        "id": "QxDaWPCxYeJH",
        "outputId": "93dbeb35-90b2-42a3-d2c9-341439414988"
      },
      "execution_count": 14,
      "outputs": [
        {
          "output_type": "stream",
          "name": "stdout",
          "text": [
            "19.949937\n"
          ]
        }
      ]
    }
  ]
}